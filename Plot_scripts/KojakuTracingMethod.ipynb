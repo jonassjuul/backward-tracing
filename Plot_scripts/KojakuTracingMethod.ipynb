{
 "cells": [
  {
   "cell_type": "code",
   "execution_count": 1,
   "metadata": {},
   "outputs": [],
   "source": [
    "import numpy as np \n",
    "import math\n",
    "import matplotlib.pyplot as plt\n",
    "import pandas as pd\n",
    "from random import random\n",
    "from collections import Counter"
   ]
  },
  {
   "cell_type": "code",
   "execution_count": 6,
   "metadata": {},
   "outputs": [],
   "source": [
    "import pickle\n"
   ]
  },
  {
   "cell_type": "code",
   "execution_count": 2,
   "metadata": {},
   "outputs": [],
   "source": [
    "def make_tree(line) :\n",
    "    tree = {}\n",
    "    \n",
    "    infections = {}\n",
    "    \n",
    "    events = line.split(',')\n",
    "    #print(len(events))\n",
    "    for column in events :\n",
    "        if (column != '\\n') : \n",
    "            info = column.split(':')\n",
    "            #print(\"info:\",info)\n",
    "            time= int(info[0]) +0\n",
    "            parent = int(info[1]) +0\n",
    "            child =  int(info[2]) +0\n",
    "\n",
    "            if (parent not in tree.keys()) :\n",
    "                tree[parent] = {}\n",
    "                tree[parent]['children'] = [child]\n",
    "                #print(\"\")\n",
    "                tree[parent]['parent'] = -1\n",
    "                tree[parent]['time infected'] = 0\n",
    "\n",
    "            else : \n",
    "                tree[parent]['children'].append(child)\n",
    "\n",
    "            if (child not in tree.keys()) :\n",
    "                tree[child] = {}\n",
    "                tree[child]['parent'] = parent\n",
    "                tree[child]['children'] = []\n",
    "                tree[child]['time infected'] = time\n",
    "            else :\n",
    "                \n",
    "                print(tree[child])\n",
    "                tree[child]['time infected'] = time\n",
    "                tree[child]['parent'] = parent\n",
    "#                print(\"Was here2\")\n",
    "                print(info, \"aaaand...\")\n",
    "                print(tree[child])\n",
    "                print(\"------\")\n",
    "                \n",
    "            if (time not in infections.keys()) :\n",
    "                infections[time] = []\n",
    "            infections[time].append(child)\n",
    "                \n",
    "            tree[parent]['isolated'] = 0\n",
    "            tree[child]['isolated'] = 0\n",
    "            \n",
    "            \n",
    "    return tree,infections\n",
    "\n",
    "def get_network(filename) :\n",
    "    network = {}\n",
    "    edgelist = pd.read_csv(filename,delimiter = ',')\n",
    "    print(edgelist.keys())\n",
    "    \n",
    "    for edgenum in range (len(edgelist[\"Node1\"])) :\n",
    "        for node in [\"Node1\",\"Node2\"]:\n",
    "            if (int(edgelist[node][edgenum]) not in network) :\n",
    "                network[int(edgelist[node][edgenum])] = []\n",
    "                \n",
    "        network[int(edgelist[\"Node1\"][edgenum])].append(int(edgelist[\"Node2\"][edgenum]))\n",
    "        network[int(edgelist[\"Node2\"][edgenum])].append(int(edgelist[\"Node1\"][edgenum]))   \n",
    "        \n",
    "    return network"
   ]
  },
  {
   "cell_type": "code",
   "execution_count": 3,
   "metadata": {},
   "outputs": [
    {
     "name": "stdout",
     "output_type": "stream",
     "text": [
      "Index(['Node1', 'Node2', 'Brackets'], dtype='object')\n"
     ]
    }
   ],
   "source": [
    "# Import network\n",
    "network = get_network('../inputs/BA_network.csv')"
   ]
  },
  {
   "cell_type": "code",
   "execution_count": 4,
   "metadata": {},
   "outputs": [
    {
     "name": "stdout",
     "output_type": "stream",
     "text": [
      "Doing ExperimentNumber 10\n",
      "Doing ExperimentNumber 20\n",
      "Doing ExperimentNumber 30\n",
      "Doing ExperimentNumber 40\n",
      "Doing ExperimentNumber 50\n",
      "Doing ExperimentNumber 60\n",
      "Doing ExperimentNumber 70\n",
      "Doing ExperimentNumber 80\n",
      "Doing ExperimentNumber 90\n",
      "Doing ExperimentNumber 100\n",
      "Doing ExperimentNumber 110\n",
      "Doing ExperimentNumber 120\n",
      "Doing ExperimentNumber 130\n",
      "Doing ExperimentNumber 140\n",
      "Doing ExperimentNumber 150\n",
      "Doing ExperimentNumber 160\n",
      "Doing ExperimentNumber 170\n",
      "Doing ExperimentNumber 180\n",
      "Doing ExperimentNumber 190\n",
      "Doing ExperimentNumber 200\n",
      "Doing ExperimentNumber 210\n",
      "Doing ExperimentNumber 220\n",
      "Doing ExperimentNumber 230\n",
      "Doing ExperimentNumber 240\n",
      "Doing ExperimentNumber 250\n",
      "Doing ExperimentNumber 260\n",
      "Doing ExperimentNumber 270\n",
      "Doing ExperimentNumber 280\n",
      "Doing ExperimentNumber 290\n",
      "Doing ExperimentNumber 300\n",
      "Doing ExperimentNumber 310\n",
      "Doing ExperimentNumber 320\n",
      "Doing ExperimentNumber 330\n",
      "Doing ExperimentNumber 340\n",
      "Doing ExperimentNumber 350\n",
      "Doing ExperimentNumber 360\n",
      "Doing ExperimentNumber 370\n",
      "Doing ExperimentNumber 380\n",
      "Doing ExperimentNumber 390\n",
      "Doing ExperimentNumber 400\n",
      "Doing ExperimentNumber 410\n",
      "Doing ExperimentNumber 420\n",
      "Doing ExperimentNumber 430\n",
      "Doing ExperimentNumber 440\n",
      "Doing ExperimentNumber 450\n",
      "Doing ExperimentNumber 460\n",
      "Doing ExperimentNumber 470\n",
      "Doing ExperimentNumber 480\n",
      "Doing ExperimentNumber 490\n",
      "Doing ExperimentNumber 500\n",
      "Doing ExperimentNumber 510\n",
      "Doing ExperimentNumber 520\n",
      "Doing ExperimentNumber 530\n",
      "Doing ExperimentNumber 540\n",
      "Doing ExperimentNumber 550\n",
      "Doing ExperimentNumber 560\n",
      "Doing ExperimentNumber 570\n",
      "Doing ExperimentNumber 580\n",
      "Doing ExperimentNumber 590\n",
      "Doing ExperimentNumber 600\n",
      "Doing ExperimentNumber 610\n",
      "Doing ExperimentNumber 620\n",
      "Doing ExperimentNumber 630\n",
      "Doing ExperimentNumber 640\n",
      "Doing ExperimentNumber 650\n",
      "Doing ExperimentNumber 660\n",
      "Doing ExperimentNumber 670\n",
      "Doing ExperimentNumber 680\n",
      "Doing ExperimentNumber 690\n",
      "Doing ExperimentNumber 700\n",
      "Doing ExperimentNumber 710\n",
      "Doing ExperimentNumber 720\n",
      "Doing ExperimentNumber 730\n",
      "Doing ExperimentNumber 740\n",
      "Doing ExperimentNumber 750\n",
      "Doing ExperimentNumber 760\n",
      "Doing ExperimentNumber 770\n",
      "Doing ExperimentNumber 780\n",
      "Doing ExperimentNumber 790\n",
      "Doing ExperimentNumber 800\n",
      "Doing ExperimentNumber 810\n",
      "Doing ExperimentNumber 820\n",
      "Doing ExperimentNumber 830\n",
      "Doing ExperimentNumber 840\n",
      "Doing ExperimentNumber 850\n",
      "Doing ExperimentNumber 860\n",
      "Doing ExperimentNumber 870\n",
      "Doing ExperimentNumber 880\n",
      "Doing ExperimentNumber 890\n",
      "Doing ExperimentNumber 900\n",
      "Doing ExperimentNumber 910\n",
      "Doing ExperimentNumber 920\n",
      "Doing ExperimentNumber 930\n",
      "Doing ExperimentNumber 940\n",
      "Doing ExperimentNumber 950\n",
      "Doing ExperimentNumber 960\n",
      "Doing ExperimentNumber 970\n",
      "Doing ExperimentNumber 980\n",
      "Doing ExperimentNumber 990\n",
      "Doing ExperimentNumber 1000\n"
     ]
    }
   ],
   "source": [
    "found_efficiencies = []\n",
    "\n",
    "# Import trees...\n",
    "\n",
    "#file = #open('outputs/EpidemicTrees/EpidemicTrees_NodesDistinguishable1_Dayspresymp3_Daysasymp4_ps0.000_pt0.000_ShapeFlat_Ignoreparents0_Ntrace30_IsolateRightAwayfalse.txt','r')\n",
    "EpidemicTreePath=\"../../../../../../../data/jlj/outputs/BackwardTracing/EpidemicTree/\"\n",
    "\n",
    "for ExperimentNumber in range (1,1001):#1001) :#ExperimentNumber=100\n",
    "    if (ExperimentNumber%10==0): \n",
    "        print(\"Doing ExperimentNumber\",ExperimentNumber)\n",
    "    FileName=\"Network:BA_Kojaku_InfectiousProfile:Flat_InfectiousWaitExponential:false_AverageR0:1.0_SymptomOnsetTime:immediately_TraceReleaseTime:10000_SeedNumber:250_Ps:0.0_Pt:0.0_ParentFactor:0.5_ChildFactor:0.5_Experiment:%s.txt\"%ExperimentNumber\n",
    "    #\"Network:BA_Kojaku_InfectiousProfile:Flat_InfectiousWaitExponential:true_AverageR0:1.0_SymptomOnsetTime:immediately_TraceReleaseTime:10000_SeedNumber:250_Ps:0.0_Pt:0.0_ParentFactor:0.5_ChildFactor:0.5_Experiment:87.txt\"\n",
    "    #\"Network:BA_Kojaku_InfectiousProfile:Flat_SymptomOnsetTime:immediately_TraceReleaseTime:10000_SeedNumber:250_Ps:0.0_Pt:0.0_ParentFactor:0.5_ChildFactor:0.5_Experiment:%s.txt\"%ExperimentNumber\n",
    "\n",
    "    file = open(EpidemicTreePath+FileName,'r')\n",
    "\n",
    "    linenum = -1\n",
    "    for line in file :\n",
    "        #print(\"Doing linenum\",linenum, \"out of \",100)\n",
    "        linenum +=1\n",
    "        #if (linenum==0):\n",
    "        #    print(line)\n",
    "\n",
    "        # Make epidemic tree\n",
    "        for exp in range (10) :\n",
    "            tree,infections = make_tree(line)\n",
    "            if (infections!={}) :\n",
    "                # Count number of seeds visible in tree\n",
    "                numseeds = 0\n",
    "                for key in tree :\n",
    "                    if (tree[key]['parent'] == -1) :\n",
    "                        numseeds +=1\n",
    "\n",
    "                seeds_not_visible = 250 - numseeds\n",
    "\n",
    "\n",
    "                # Now do model\n",
    "                timemax = max(list(infections.keys()))\n",
    "\n",
    "                ps = 0.05\n",
    "                pt = 0.50\n",
    "                n = 30\n",
    "\n",
    "                numinfected = 250 # seeds\n",
    "                numisolated = 0\n",
    "\n",
    "\n",
    "\n",
    "                for time in range (1,timemax+1) :\n",
    "                    contactlist = []\n",
    "                    if (time not in infections.keys()) :\n",
    "                        infections[time] = []\n",
    "                    # Go through infections\n",
    "                    for event in infections[time] :\n",
    "                        \n",
    "                        # Check if parent is isolated:\n",
    "                        parent = tree[event]['parent']+0\n",
    "                        if (parent != -1 and tree[parent]['isolated'] == 1) :\n",
    "                            tree[event]['isolated'] = 1\n",
    "                            # The node did not get infected..\n",
    "                            \n",
    "                        else : \n",
    "\n",
    "                            # Toss coin to isolate upon infection\n",
    "\n",
    "                            random_number = random()+0\n",
    "                            if (random_number < ps) :\n",
    "                                # Isolate:\n",
    "                                tree[event]['isolated'] = 1\n",
    "                                numisolated += 1\n",
    "                                #print(event)\n",
    "                                for contact in network[event-1] : #[0-indexing in network, 1-indexing in tree]\n",
    "                                    # Toss coin to identify contact\n",
    "                                    random_number = random()\n",
    "                                    if (random_number < pt) :\n",
    "                                        contactlist.append(contact+1) #1-indexing in tree.\n",
    "                            else :\n",
    "                                numinfected +=1\n",
    "\n",
    "                    # Now isolate most frequently found contacts\n",
    "                    if (len(contactlist)!=0) :\n",
    "                        # find most frequent n traced contacts\n",
    "                        contactlist = sorted(contactlist, key=Counter(contactlist).get, reverse=True)\n",
    "                        isolated_contacts = []\n",
    "                        #for i in range (n) :\n",
    "\n",
    "                        stop = False\n",
    "                        listentry = 0\n",
    "                        while (stop == False) :\n",
    "                            if (contactlist[listentry] not in isolated_contacts) :\n",
    "                                isolated_contacts.append(contactlist[listentry])\n",
    "\n",
    "                            listentry +=1\n",
    "                            if (len(isolated_contacts) == n or listentry == len(contactlist)) :\n",
    "                                stop = True\n",
    "\n",
    "                        # And isolate these n\n",
    "                        for node in isolated_contacts :\n",
    "                            # Might try to isolate a node that never got infected...\n",
    "                            if (node not in tree.keys()) :\n",
    "                                tree[node] = {'isolated':0}\n",
    "                            tree[node]['isolated'] = 1\n",
    "                            numisolated +=1\n",
    "\n",
    "\n",
    "                Prevented_infections = (len(tree.keys())-numinfected)\n",
    "                efficiency = Prevented_infections/numisolated                \n",
    "                found_efficiencies.append(efficiency+0)"
   ]
  },
  {
   "cell_type": "code",
   "execution_count": 7,
   "metadata": {},
   "outputs": [],
   "source": [
    "PathToOutputs = \"outputs/\"\n",
    "with open(PathToOutputs+'KojakuEfficiencyEstimates.pickle', 'wb') as handle:\n",
    "    pickle.dump(found_efficiencies, handle, protocol=pickle.HIGHEST_PROTOCOL)"
   ]
  },
  {
   "cell_type": "code",
   "execution_count": 8,
   "metadata": {},
   "outputs": [
    {
     "data": {
      "text/plain": [
       "(array([  7.,  14.,  34.,  58.,  78., 146., 172., 212., 260., 256., 318.,\n",
       "        299., 266., 258., 227., 223., 175., 149., 146., 121.,  95.,  89.,\n",
       "         68.,  66.,  43.,  44.,  36.,  23.,  27.,  19.,  13.,   9.,   8.,\n",
       "          8.,   6.,   6.,   6.,   6.,   2.,   1.,   0.,   2.,   0.,   0.,\n",
       "          1.,   0.,   1.,   0.,   0.,   2.]),\n",
       " array([11.64337399, 12.5170853 , 13.39079661, 14.26450792, 15.13821923,\n",
       "        16.01193054, 16.88564185, 17.75935316, 18.63306447, 19.50677578,\n",
       "        20.38048709, 21.2541984 , 22.12790971, 23.00162102, 23.87533233,\n",
       "        24.74904364, 25.62275495, 26.49646626, 27.37017757, 28.24388888,\n",
       "        29.11760019, 29.9913115 , 30.86502281, 31.73873412, 32.61244543,\n",
       "        33.48615674, 34.35986805, 35.23357936, 36.10729067, 36.98100198,\n",
       "        37.85471329, 38.7284246 , 39.60213591, 40.47584722, 41.34955853,\n",
       "        42.22326984, 43.09698115, 43.97069246, 44.84440377, 45.71811508,\n",
       "        46.59182639, 47.4655377 , 48.33924901, 49.21296032, 50.08667163,\n",
       "        50.96038294, 51.83409425, 52.70780556, 53.58151687, 54.45522817,\n",
       "        55.32893948]),\n",
       " <a list of 50 Patch objects>)"
      ]
     },
     "execution_count": 8,
     "metadata": {},
     "output_type": "execute_result"
    },
    {
     "data": {
      "image/png": "[encoded data removed]",
      "text/plain": [
       "<Figure size 432x288 with 1 Axes>"
      ]
     },
     "metadata": {
      "needs_background": "light"
     },
     "output_type": "display_data"
    }
   ],
   "source": [
    "plt.figure()\n",
    "plt.hist(found_efficiencies,bins=50)"
   ]
  },
  {
   "cell_type": "code",
   "execution_count": 11,
   "metadata": {},
   "outputs": [
    {
     "data": {
      "text/plain": [
       "23.48070720539853"
      ]
     },
     "execution_count": 11,
     "metadata": {},
     "output_type": "execute_result"
    }
   ],
   "source": [
    "np.mean(found_efficiencies)\n"
   ]
  },
  {
   "cell_type": "code",
   "execution_count": 10,
   "metadata": {},
   "outputs": [
    {
     "data": {
      "text/plain": [
       "55.32893948472139"
      ]
     },
     "execution_count": 10,
     "metadata": {},
     "output_type": "execute_result"
    }
   ],
   "source": [
    "max(found_efficiencies)"
   ]
  },
  {
   "cell_type": "code",
   "execution_count": 103,
   "metadata": {},
   "outputs": [
    {
     "data": {
      "text/plain": [
       "5.667756169308711"
      ]
     },
     "execution_count": 103,
     "metadata": {},
     "output_type": "execute_result"
    }
   ],
   "source": [
    "min(found_efficiencies)"
   ]
  },
  {
   "cell_type": "code",
   "execution_count": 104,
   "metadata": {},
   "outputs": [
    {
     "data": {
      "text/plain": [
       "101427"
      ]
     },
     "execution_count": 104,
     "metadata": {},
     "output_type": "execute_result"
    }
   ],
   "source": [
    "len(tree.keys())"
   ]
  },
  {
   "cell_type": "code",
   "execution_count": 106,
   "metadata": {},
   "outputs": [
    {
     "data": {
      "text/plain": [
       "{'parent': 4,\n",
       " 'children': [48090,\n",
       "  191684,\n",
       "  33319,\n",
       "  129058,\n",
       "  51052,\n",
       "  141473,\n",
       "  50394,\n",
       "  6023,\n",
       "  240568,\n",
       "  33827,\n",
       "  69741,\n",
       "  88826,\n",
       "  15322,\n",
       "  8152,\n",
       "  373,\n",
       "  1992,\n",
       "  109153,\n",
       "  237,\n",
       "  188729,\n",
       "  40296,\n",
       "  50135,\n",
       "  24820,\n",
       "  1183,\n",
       "  59037,\n",
       "  23427,\n",
       "  68617,\n",
       "  134305,\n",
       "  5407,\n",
       "  44635,\n",
       "  152178,\n",
       "  2149,\n",
       "  2329,\n",
       "  58264,\n",
       "  44953,\n",
       "  74558,\n",
       "  1492,\n",
       "  15423,\n",
       "  35684,\n",
       "  174004,\n",
       "  54096,\n",
       "  112953,\n",
       "  198211,\n",
       "  22644,\n",
       "  126297,\n",
       "  786,\n",
       "  24791,\n",
       "  42060,\n",
       "  15574,\n",
       "  169843,\n",
       "  200604,\n",
       "  185520,\n",
       "  96491,\n",
       "  246665],\n",
       " 'time infected': 12,\n",
       " 'isolated': 1}"
      ]
     },
     "execution_count": 106,
     "metadata": {},
     "output_type": "execute_result"
    }
   ],
   "source": [
    "tree[1]"
   ]
  },
  {
   "cell_type": "code",
   "execution_count": 188,
   "metadata": {},
   "outputs": [],
   "source": [
    "\n",
    "for ExperimentNumber in range (4,5) :#ExperimentNumber=100\n",
    "    if (ExperimentNumber%10==0): \n",
    "        print(\"Doing ExperimentNumber\",ExperimentNumber)\n",
    "    #FileName=\"Network:BA_Kojaku_InfectiousProfile:Flat_InfectiousWaitExponential:true_AverageR0:1.5_SymptomOnsetTime:immediately_TraceReleaseTime:10000_SeedNumber:250_Ps:0.0_Pt:0.0_ParentFactor:0.5_ChildFactor:0.5_Experiment:%s.txt\"%ExperimentNumber\n",
    "    #\"Network:BA_Kojaku_InfectiousProfile:Flat_SymptomOnsetTime:immediately_TraceReleaseTime:10000_SeedNumber:250_Ps:0.0_Pt:0.0_ParentFactor:0.5_ChildFactor:0.5_Experiment:%s.txt\"%ExperimentNumber\n",
    "    f=open(EpidemicTreePath+FileName,'r')\n",
    "    \n",
    "    for line in f:\n",
    "        line.strip()\n",
    "        events = line.split(\",\")\n",
    "    \n",
    "    "
   ]
  },
  {
   "cell_type": "code",
   "execution_count": 189,
   "metadata": {},
   "outputs": [
    {
     "data": {
      "text/plain": [
       "99952"
      ]
     },
     "execution_count": 189,
     "metadata": {},
     "output_type": "execute_result"
    }
   ],
   "source": [
    "len(events\n",
    "   )"
   ]
  },
  {
   "cell_type": "code",
   "execution_count": 190,
   "metadata": {},
   "outputs": [],
   "source": [
    "EventsNumber=[]\n",
    "Number=\"1\"\n",
    "for event in events :\n",
    "    info=event.split(\":\")\n",
    "    if (Number==info[1] or Number==info[2]) :\n",
    "        EventsNumber.append(info)"
   ]
  },
  {
   "cell_type": "code",
   "execution_count": 191,
   "metadata": {},
   "outputs": [
    {
     "data": {
      "text/plain": [
       "[['14', '1492', '1'],\n",
       " ['15', '1', '56930'],\n",
       " ['15', '1', '82'],\n",
       " ['15', '1', '18284'],\n",
       " ['15', '1', '170119'],\n",
       " ['16', '1', '173868'],\n",
       " ['16', '1', '171322'],\n",
       " ['16', '1', '242278'],\n",
       " ['16', '1', '44635'],\n",
       " ['16', '1', '224508'],\n",
       " ['16', '1', '112953'],\n",
       " ['16', '1', '167493'],\n",
       " ['17', '1', '1183'],\n",
       " ['17', '1', '50917'],\n",
       " ['17', '1', '193925'],\n",
       " ['17', '1', '7608'],\n",
       " ['17', '1', '51864'],\n",
       " ['17', '1', '531'],\n",
       " ['17', '1', '106362'],\n",
       " ['17', '1', '394'],\n",
       " ['17', '1', '46899'],\n",
       " ['18', '1', '35860'],\n",
       " ['19', '1', '52150'],\n",
       " ['19', '1', '95499'],\n",
       " ['20', '1', '34'],\n",
       " ['20', '1', '232152'],\n",
       " ['20', '1', '44438'],\n",
       " ['20', '1', '19139'],\n",
       " ['21', '1', '31553'],\n",
       " ['21', '1', '163637'],\n",
       " ['21', '1', '83222'],\n",
       " ['21', '1', '15322'],\n",
       " ['21', '1', '24820'],\n",
       " ['22', '1', '152178'],\n",
       " ['22', '1', '45356'],\n",
       " ['22', '1', '85806'],\n",
       " ['22', '1', '50135'],\n",
       " ['22', '1', '54096'],\n",
       " ['22', '1', '232189'],\n",
       " ['23', '1', '72326'],\n",
       " ['23', '1', '210957'],\n",
       " ['23', '1', '195905'],\n",
       " ['23', '1', '204472'],\n",
       " ['23', '1', '108219'],\n",
       " ['24', '1', '34852'],\n",
       " ['24', '1', '219234'],\n",
       " ['24', '1', '157554'],\n",
       " ['24', '1', '174004'],\n",
       " ['24', '1', '1992'],\n",
       " ['25', '1', '13896'],\n",
       " ['25', '1', '5576'],\n",
       " ['25', '1', '145510'],\n",
       " ['25', '1', '236009'],\n",
       " ['25', '1', '16689'],\n",
       " ['25', '1', '50394'],\n",
       " ['25', '1', '88826']]"
      ]
     },
     "execution_count": 191,
     "metadata": {},
     "output_type": "execute_result"
    }
   ],
   "source": [
    "EventsNumber"
   ]
  },
  {
   "cell_type": "code",
   "execution_count": 179,
   "metadata": {},
   "outputs": [
    {
     "data": {
      "text/plain": [
       "5434"
      ]
     },
     "execution_count": 179,
     "metadata": {},
     "output_type": "execute_result"
    }
   ],
   "source": [
    "numisolated"
   ]
  },
  {
   "cell_type": "code",
   "execution_count": 180,
   "metadata": {},
   "outputs": [
    {
     "data": {
      "text/plain": [
       "54718"
      ]
     },
     "execution_count": 180,
     "metadata": {},
     "output_type": "execute_result"
    }
   ],
   "source": [
    "numinfected"
   ]
  },
  {
   "cell_type": "code",
   "execution_count": 181,
   "metadata": {},
   "outputs": [
    {
     "data": {
      "text/plain": [
       "101366"
      ]
     },
     "execution_count": 181,
     "metadata": {},
     "output_type": "execute_result"
    }
   ],
   "source": [
    "len(tree.keys())"
   ]
  },
  {
   "cell_type": "code",
   "execution_count": 182,
   "metadata": {},
   "outputs": [
    {
     "data": {
      "text/plain": [
       "8.584468163415531"
      ]
     },
     "execution_count": 182,
     "metadata": {},
     "output_type": "execute_result"
    }
   ],
   "source": [
    "(len(tree.keys())-numinfected)/numisolated"
   ]
  },
  {
   "cell_type": "code",
   "execution_count": 192,
   "metadata": {},
   "outputs": [
    {
     "ename": "NameError",
     "evalue": "name 'seeds' is not defined",
     "output_type": "error",
     "traceback": [
      "\u001b[0;31m---------------------------------------------------------------------------\u001b[0m",
      "\u001b[0;31mNameError\u001b[0m                                 Traceback (most recent call last)",
      "\u001b[0;32m<ipython-input-192-b0372333c4d6>\u001b[0m in \u001b[0;36m<module>\u001b[0;34m\u001b[0m\n\u001b[0;32m----> 1\u001b[0;31m \u001b[0mseeds\u001b[0m\u001b[0;34m\u001b[0m\u001b[0;34m\u001b[0m\u001b[0m\n\u001b[0m",
      "\u001b[0;31mNameError\u001b[0m: name 'seeds' is not defined"
     ]
    }
   ],
   "source": [
    "seeds"
   ]
  },
  {
   "cell_type": "code",
   "execution_count": null,
   "metadata": {},
   "outputs": [],
   "source": []
  }
 ],
 "metadata": {
  "kernelspec": {
   "display_name": "Python 3",
   "language": "python",
   "name": "python3"
  },
  "language_info": {
   "codemirror_mode": {
    "name": "ipython",
    "version": 3
   },
   "file_extension": ".py",
   "mimetype": "text/x-python",
   "name": "python",
   "nbconvert_exporter": "python",
   "pygments_lexer": "ipython3",
   "version": "3.8.3"
  }
 },
 "nbformat": 4,
 "nbformat_minor": 4
}
